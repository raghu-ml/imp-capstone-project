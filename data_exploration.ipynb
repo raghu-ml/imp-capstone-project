{
 "cells": [
  {
   "cell_type": "code",
   "execution_count": 1,
   "metadata": {},
   "outputs": [],
   "source": [
    "import numpy as np\n",
    "import pandas as pd\n",
    "import matplotlib.pyplot as plt"
   ]
  },
  {
   "cell_type": "markdown",
   "metadata": {},
   "source": [
    "# 2024 Imperial - AI/ML professional certificate - Captstone - Project - Data Exploration"
   ]
  },
  {
   "cell_type": "markdown",
   "metadata": {},
   "source": [
    "## Stellar calssifiation from telescope observations"
   ]
  },
  {
   "cell_type": "markdown",
   "metadata": {},
   "source": [
    "### Datacard\n",
    "The data consists of 100,000 observations of space taken by the SDSS (Sloan Digital Sky Survey). Every observation is described by 17 feature columns and 1 class column which identifies it to be either a star, galaxy or quasar.\n",
    "\n",
    "* obj_ID = Object Identifier, the unique value that identifies the object in the image catalog used by the CAS\n",
    "* alpha = Right Ascension angle (at J2000 epoch)\n",
    "* delta = Declination angle (at J2000 epoch)\n",
    "* u = Ultraviolet filter in the photometric system\n",
    "* g = Green filter in the photometric system\n",
    "* r = Red filter in the photometric system\n",
    "* i = Near Infrared filter in the photometric system\n",
    "* z = Infrared filter in the photometric system\n",
    "* run_ID = Run Number used to identify the specific scan\n",
    "* rereun_ID = Rerun Number to specify how the image was processed\n",
    "* cam_col = Camera column to identify the scanline within the run\n",
    "* field_ID = Field number to identify each field\n",
    "* spec_obj_ID = Unique ID used for optical spectroscopic objects (this means that 2 different observations with the same spec_obj_ID must share the output class)\n",
    "* class = object class (galaxy, star or quasar object)\n",
    "* redshift = redshift value based on the increase in wavelength\n",
    "* plate = plate ID, identifies each plate in SDSS\n",
    "* MJD = Modified Julian Date, used to indicate when a given piece of SDSS data was taken\n",
    "* fiber_ID = fiber ID that identifies the fiber that pointed the light at the focal plane in each observation\n",
    "\n",
    "\n",
    "<b>Citation</b>\n",
    "* fedesoriano. (January 2022). Stellar Classification Dataset - SDSS17. Retrieved [Date Retrieved] from https://www.kaggle.com/fedesoriano/stellar-classification-dataset-sdss17.\n",
    "\n",
    "* https://www.sdss4.org/faceplat/\n",
    "\n",
    "<b>Acknowledgements</b>\n",
    "The data released by the SDSS is under public domain. Its taken from the current data release RD17. More information about the license: http://www.sdss.org/science/image-gallery/\n",
    "\n",
    "<b>SDSS Publications</b>\n",
    "\n",
    "Abdurro’uf et al., The Seventeenth data release of the Sloan Digital Sky Surveys: Complete Release of MaNGA, MaStar and APOGEE-2 DATA (Abdurro’uf et al. submitted to ApJS) [arXiv:2112.02026]\n"
   ]
  },
  {
   "cell_type": "markdown",
   "metadata": {},
   "source": [
    "### Data Exploration and cleaning"
   ]
  },
  {
   "cell_type": "markdown",
   "metadata": {},
   "source": [
    "#### Original Data"
   ]
  },
  {
   "cell_type": "code",
   "execution_count": 2,
   "metadata": {},
   "outputs": [],
   "source": [
    "original_data = pd.read_csv('./data/star_classification.csv')"
   ]
  },
  {
   "cell_type": "code",
   "execution_count": 3,
   "metadata": {},
   "outputs": [
    {
     "name": "stdout",
     "output_type": "stream",
     "text": [
      "['obj_ID', 'alpha', 'delta', 'u', 'g', 'r', 'i', 'z', 'run_ID', 'rerun_ID', 'cam_col', 'field_ID', 'spec_obj_ID', 'class', 'redshift', 'plate', 'MJD', 'fiber_ID']\n",
      "(100000, 18)\n"
     ]
    }
   ],
   "source": [
    "# data shape\n",
    "print([val for val in original_data.columns])\n",
    "\n",
    "print(original_data.shape)"
   ]
  },
  {
   "cell_type": "markdown",
   "metadata": {},
   "source": [
    "<b>Are the classifications unique by primary key?</b>"
   ]
  },
  {
   "cell_type": "code",
   "execution_count": 4,
   "metadata": {},
   "outputs": [],
   "source": [
    "# obejcts are not unique\n",
    "unique_obj = original_data.groupby(by='obj_ID').agg({'class':'unique'}).reset_index()\n",
    "\n",
    "def _class_len(r):\n",
    "    return len(r)\n",
    "\n",
    "unique_obj['class_len'] = unique_obj['class'].apply(_class_len)\n",
    "\n",
    "# we have same object with multiple classifications, 5555\n",
    "multi_classifications = unique_obj[ unique_obj['class_len'] > 1 ]\n",
    "\n",
    "# lets understand if we should remove them if there is error in data\n",
    "# or if this correct\n",
    "exmaple_obj = multi_classifications.obj_ID.iloc[0]"
   ]
  },
  {
   "cell_type": "code",
   "execution_count": 5,
   "metadata": {},
   "outputs": [
    {
     "data": {
      "text/html": [
       "<div>\n",
       "<style scoped>\n",
       "    .dataframe tbody tr th:only-of-type {\n",
       "        vertical-align: middle;\n",
       "    }\n",
       "\n",
       "    .dataframe tbody tr th {\n",
       "        vertical-align: top;\n",
       "    }\n",
       "\n",
       "    .dataframe thead th {\n",
       "        text-align: right;\n",
       "    }\n",
       "</style>\n",
       "<table border=\"1\" class=\"dataframe\">\n",
       "  <thead>\n",
       "    <tr style=\"text-align: right;\">\n",
       "      <th></th>\n",
       "      <th>obj_ID</th>\n",
       "      <th>alpha</th>\n",
       "      <th>delta</th>\n",
       "      <th>u</th>\n",
       "      <th>g</th>\n",
       "      <th>r</th>\n",
       "      <th>i</th>\n",
       "      <th>z</th>\n",
       "      <th>run_ID</th>\n",
       "      <th>rerun_ID</th>\n",
       "      <th>cam_col</th>\n",
       "      <th>field_ID</th>\n",
       "      <th>spec_obj_ID</th>\n",
       "      <th>class</th>\n",
       "      <th>redshift</th>\n",
       "      <th>plate</th>\n",
       "      <th>MJD</th>\n",
       "      <th>fiber_ID</th>\n",
       "    </tr>\n",
       "  </thead>\n",
       "  <tbody>\n",
       "    <tr>\n",
       "      <th>24820</th>\n",
       "      <td>1.237646e+18</td>\n",
       "      <td>57.598932</td>\n",
       "      <td>0.063617</td>\n",
       "      <td>22.81235</td>\n",
       "      <td>21.48987</td>\n",
       "      <td>20.04629</td>\n",
       "      <td>19.59547</td>\n",
       "      <td>18.99735</td>\n",
       "      <td>109</td>\n",
       "      <td>301</td>\n",
       "      <td>4</td>\n",
       "      <td>153</td>\n",
       "      <td>1.838733e+18</td>\n",
       "      <td>GALAXY</td>\n",
       "      <td>0.241813</td>\n",
       "      <td>1633</td>\n",
       "      <td>52998</td>\n",
       "      <td>502</td>\n",
       "    </tr>\n",
       "    <tr>\n",
       "      <th>45488</th>\n",
       "      <td>1.237646e+18</td>\n",
       "      <td>57.647253</td>\n",
       "      <td>0.030695</td>\n",
       "      <td>19.73725</td>\n",
       "      <td>19.48620</td>\n",
       "      <td>19.04919</td>\n",
       "      <td>18.85514</td>\n",
       "      <td>18.79748</td>\n",
       "      <td>109</td>\n",
       "      <td>301</td>\n",
       "      <td>4</td>\n",
       "      <td>153</td>\n",
       "      <td>1.398504e+18</td>\n",
       "      <td>QSO</td>\n",
       "      <td>1.429148</td>\n",
       "      <td>1242</td>\n",
       "      <td>52901</td>\n",
       "      <td>494</td>\n",
       "    </tr>\n",
       "  </tbody>\n",
       "</table>\n",
       "</div>"
      ],
      "text/plain": [
       "             obj_ID      alpha     delta         u         g         r  \\\n",
       "24820  1.237646e+18  57.598932  0.063617  22.81235  21.48987  20.04629   \n",
       "45488  1.237646e+18  57.647253  0.030695  19.73725  19.48620  19.04919   \n",
       "\n",
       "              i         z  run_ID  rerun_ID  cam_col  field_ID   spec_obj_ID  \\\n",
       "24820  19.59547  18.99735     109       301        4       153  1.838733e+18   \n",
       "45488  18.85514  18.79748     109       301        4       153  1.398504e+18   \n",
       "\n",
       "        class  redshift  plate    MJD  fiber_ID  \n",
       "24820  GALAXY  0.241813   1633  52998       502  \n",
       "45488     QSO  1.429148   1242  52901       494  "
      ]
     },
     "execution_count": 5,
     "metadata": {},
     "output_type": "execute_result"
    }
   ],
   "source": [
    "original_data[original_data.obj_ID == exmaple_obj]"
   ]
  },
  {
   "cell_type": "markdown",
   "metadata": {},
   "source": [
    "Reading: https://skyserver.sdss.org/dr18/MoreTools/browser, which explains the schema indeed obj_id is the photo id in the databse. The object inside the oject is indexed by other keys such as its location. spec_obj_ID is required to be unqiue. Lets check that\n"
   ]
  },
  {
   "cell_type": "code",
   "execution_count": 6,
   "metadata": {},
   "outputs": [
    {
     "name": "stdout",
     "output_type": "stream",
     "text": [
      "100000\n"
     ]
    }
   ],
   "source": [
    "# spec_obj_ID are all unique\n",
    "# no need to remove any data\n",
    "print(len(np.unique(original_data['spec_obj_ID'].values)))\n",
    "\n"
   ]
  },
  {
   "cell_type": "code",
   "execution_count": 7,
   "metadata": {},
   "outputs": [
    {
     "data": {
      "text/plain": [
       "obj_ID         0\n",
       "alpha          0\n",
       "delta          0\n",
       "u              0\n",
       "g              0\n",
       "r              0\n",
       "i              0\n",
       "z              0\n",
       "run_ID         0\n",
       "rerun_ID       0\n",
       "cam_col        0\n",
       "field_ID       0\n",
       "spec_obj_ID    0\n",
       "class          0\n",
       "redshift       0\n",
       "plate          0\n",
       "MJD            0\n",
       "fiber_ID       0\n",
       "dtype: int64"
      ]
     },
     "execution_count": 7,
     "metadata": {},
     "output_type": "execute_result"
    }
   ],
   "source": [
    "# there are no nan values\n",
    "original_data.isna().sum()"
   ]
  },
  {
   "cell_type": "code",
   "execution_count": 8,
   "metadata": {},
   "outputs": [],
   "source": [
    "# lets remove some uncessary columns \n",
    "# we remove the ID columns\n",
    "# this is the features we want to keep\n",
    "relevant_data = original_data[['alpha', 'delta' , 'u', 'g', 'r', 'i', 'z', 'redshift', 'class']]"
   ]
  },
  {
   "cell_type": "markdown",
   "metadata": {},
   "source": [
    "#### Examine output calss"
   ]
  },
  {
   "cell_type": "code",
   "execution_count": 9,
   "metadata": {},
   "outputs": [
    {
     "name": "stdout",
     "output_type": "stream",
     "text": [
      "object\n"
     ]
    },
    {
     "data": {
      "text/plain": [
       "array(['GALAXY', 'QSO', 'STAR'], dtype=object)"
      ]
     },
     "execution_count": 9,
     "metadata": {},
     "output_type": "execute_result"
    }
   ],
   "source": [
    "# output is an object (string)\n",
    "print(relevant_data['class'].dtype)\n",
    "\n",
    "relevant_data['class'].unique()"
   ]
  },
  {
   "cell_type": "code",
   "execution_count": 10,
   "metadata": {},
   "outputs": [
    {
     "data": {
      "text/plain": [
       "class\n",
       "GALAXY    59445\n",
       "STAR      21594\n",
       "QSO       18961\n",
       "Name: count, dtype: int64"
      ]
     },
     "execution_count": 10,
     "metadata": {},
     "output_type": "execute_result"
    }
   ],
   "source": [
    "relevant_data['class'].value_counts()"
   ]
  },
  {
   "cell_type": "markdown",
   "metadata": {},
   "source": [
    "#### Examine input feaures"
   ]
  },
  {
   "cell_type": "code",
   "execution_count": 11,
   "metadata": {},
   "outputs": [
    {
     "data": {
      "text/html": [
       "<div>\n",
       "<style scoped>\n",
       "    .dataframe tbody tr th:only-of-type {\n",
       "        vertical-align: middle;\n",
       "    }\n",
       "\n",
       "    .dataframe tbody tr th {\n",
       "        vertical-align: top;\n",
       "    }\n",
       "\n",
       "    .dataframe thead th {\n",
       "        text-align: right;\n",
       "    }\n",
       "</style>\n",
       "<table border=\"1\" class=\"dataframe\">\n",
       "  <thead>\n",
       "    <tr style=\"text-align: right;\">\n",
       "      <th></th>\n",
       "      <th>count</th>\n",
       "      <th>mean</th>\n",
       "      <th>std</th>\n",
       "      <th>min</th>\n",
       "      <th>25%</th>\n",
       "      <th>50%</th>\n",
       "      <th>75%</th>\n",
       "      <th>max</th>\n",
       "    </tr>\n",
       "  </thead>\n",
       "  <tbody>\n",
       "    <tr>\n",
       "      <th>alpha</th>\n",
       "      <td>100000.0</td>\n",
       "      <td>177.629117</td>\n",
       "      <td>96.502241</td>\n",
       "      <td>0.005528</td>\n",
       "      <td>127.518222</td>\n",
       "      <td>180.900700</td>\n",
       "      <td>233.895005</td>\n",
       "      <td>359.999810</td>\n",
       "    </tr>\n",
       "    <tr>\n",
       "      <th>delta</th>\n",
       "      <td>100000.0</td>\n",
       "      <td>24.135305</td>\n",
       "      <td>19.644665</td>\n",
       "      <td>-18.785328</td>\n",
       "      <td>5.146771</td>\n",
       "      <td>23.645922</td>\n",
       "      <td>39.901550</td>\n",
       "      <td>83.000519</td>\n",
       "    </tr>\n",
       "    <tr>\n",
       "      <th>u</th>\n",
       "      <td>100000.0</td>\n",
       "      <td>21.980468</td>\n",
       "      <td>31.769291</td>\n",
       "      <td>-9999.000000</td>\n",
       "      <td>20.352353</td>\n",
       "      <td>22.179135</td>\n",
       "      <td>23.687440</td>\n",
       "      <td>32.781390</td>\n",
       "    </tr>\n",
       "    <tr>\n",
       "      <th>g</th>\n",
       "      <td>100000.0</td>\n",
       "      <td>20.531387</td>\n",
       "      <td>31.750292</td>\n",
       "      <td>-9999.000000</td>\n",
       "      <td>18.965230</td>\n",
       "      <td>21.099835</td>\n",
       "      <td>22.123767</td>\n",
       "      <td>31.602240</td>\n",
       "    </tr>\n",
       "    <tr>\n",
       "      <th>r</th>\n",
       "      <td>100000.0</td>\n",
       "      <td>19.645762</td>\n",
       "      <td>1.854760</td>\n",
       "      <td>9.822070</td>\n",
       "      <td>18.135828</td>\n",
       "      <td>20.125290</td>\n",
       "      <td>21.044785</td>\n",
       "      <td>29.571860</td>\n",
       "    </tr>\n",
       "    <tr>\n",
       "      <th>i</th>\n",
       "      <td>100000.0</td>\n",
       "      <td>19.084854</td>\n",
       "      <td>1.757895</td>\n",
       "      <td>9.469903</td>\n",
       "      <td>17.732285</td>\n",
       "      <td>19.405145</td>\n",
       "      <td>20.396495</td>\n",
       "      <td>32.141470</td>\n",
       "    </tr>\n",
       "    <tr>\n",
       "      <th>z</th>\n",
       "      <td>100000.0</td>\n",
       "      <td>18.668810</td>\n",
       "      <td>31.728152</td>\n",
       "      <td>-9999.000000</td>\n",
       "      <td>17.460677</td>\n",
       "      <td>19.004595</td>\n",
       "      <td>19.921120</td>\n",
       "      <td>29.383740</td>\n",
       "    </tr>\n",
       "    <tr>\n",
       "      <th>redshift</th>\n",
       "      <td>100000.0</td>\n",
       "      <td>0.576661</td>\n",
       "      <td>0.730707</td>\n",
       "      <td>-0.009971</td>\n",
       "      <td>0.054517</td>\n",
       "      <td>0.424173</td>\n",
       "      <td>0.704154</td>\n",
       "      <td>7.011245</td>\n",
       "    </tr>\n",
       "  </tbody>\n",
       "</table>\n",
       "</div>"
      ],
      "text/plain": [
       "             count        mean        std          min         25%  \\\n",
       "alpha     100000.0  177.629117  96.502241     0.005528  127.518222   \n",
       "delta     100000.0   24.135305  19.644665   -18.785328    5.146771   \n",
       "u         100000.0   21.980468  31.769291 -9999.000000   20.352353   \n",
       "g         100000.0   20.531387  31.750292 -9999.000000   18.965230   \n",
       "r         100000.0   19.645762   1.854760     9.822070   18.135828   \n",
       "i         100000.0   19.084854   1.757895     9.469903   17.732285   \n",
       "z         100000.0   18.668810  31.728152 -9999.000000   17.460677   \n",
       "redshift  100000.0    0.576661   0.730707    -0.009971    0.054517   \n",
       "\n",
       "                 50%         75%         max  \n",
       "alpha     180.900700  233.895005  359.999810  \n",
       "delta      23.645922   39.901550   83.000519  \n",
       "u          22.179135   23.687440   32.781390  \n",
       "g          21.099835   22.123767   31.602240  \n",
       "r          20.125290   21.044785   29.571860  \n",
       "i          19.405145   20.396495   32.141470  \n",
       "z          19.004595   19.921120   29.383740  \n",
       "redshift    0.424173    0.704154    7.011245  "
      ]
     },
     "execution_count": 11,
     "metadata": {},
     "output_type": "execute_result"
    }
   ],
   "source": [
    "\n",
    "relevant_data.describe().T"
   ]
  },
  {
   "cell_type": "markdown",
   "metadata": {},
   "source": [
    "Two observations of above data\n",
    "\n",
    "* We will need normalization before feeding to models, big variation magnitudes\n",
    "* features u,g and z seems to have some values -9999, we need to explore these anomalies are perhaps remove them"
   ]
  },
  {
   "cell_type": "code",
   "execution_count": 12,
   "metadata": {},
   "outputs": [
    {
     "data": {
      "text/plain": [
       "Text(0.5, 1.0, 'z - infra red fitler')"
      ]
     },
     "execution_count": 12,
     "metadata": {},
     "output_type": "execute_result"
    },
    {
     "data": {
      "image/png": "[encoded data removed]",
      "text/plain": [
       "<Figure size 1000x600 with 5 Axes>"
      ]
     },
     "metadata": {},
     "output_type": "display_data"
    }
   ],
   "source": [
    "fig = plt.figure(figsize=(10,6))\n",
    "fig.subplots_adjust(hspace=1)\n",
    "fig.suptitle('distribution of u, g, r, i z')\n",
    "\n",
    "u_ax = fig.add_subplot(3,2,1)\n",
    "u_ax.hist(relevant_data['u'])\n",
    "u_ax.set_title('histogram of u  - ultraviolet fitler')\n",
    "\n",
    "g_ax = fig.add_subplot(3,2,2)\n",
    "g_ax.hist(relevant_data['g'])\n",
    "g_ax.set_title('histogram of g - green filter')\n",
    "\n",
    "r_ax = fig.add_subplot(3,2,3)\n",
    "r_ax.hist(relevant_data['r'])\n",
    "r_ax.set_title('histogram of r - red filter')\n",
    "\n",
    "i_ax = fig.add_subplot(3,2,4)\n",
    "i_ax.hist(relevant_data['i'])\n",
    "i_ax.set_title('i - near infra red fitler')\n",
    "\n",
    "z_ax = fig.add_subplot(3,2,5)\n",
    "z_ax.hist(relevant_data['z'])\n",
    "z_ax.set_title('z - infra red fitler')\n",
    " \n"
   ]
  },
  {
   "cell_type": "code",
   "execution_count": 13,
   "metadata": {},
   "outputs": [
    {
     "data": {
      "text/html": [
       "<div>\n",
       "<style scoped>\n",
       "    .dataframe tbody tr th:only-of-type {\n",
       "        vertical-align: middle;\n",
       "    }\n",
       "\n",
       "    .dataframe tbody tr th {\n",
       "        vertical-align: top;\n",
       "    }\n",
       "\n",
       "    .dataframe thead th {\n",
       "        text-align: right;\n",
       "    }\n",
       "</style>\n",
       "<table border=\"1\" class=\"dataframe\">\n",
       "  <thead>\n",
       "    <tr style=\"text-align: right;\">\n",
       "      <th></th>\n",
       "      <th>alpha</th>\n",
       "      <th>delta</th>\n",
       "      <th>u</th>\n",
       "      <th>g</th>\n",
       "      <th>r</th>\n",
       "      <th>i</th>\n",
       "      <th>z</th>\n",
       "      <th>redshift</th>\n",
       "      <th>class</th>\n",
       "    </tr>\n",
       "  </thead>\n",
       "  <tbody>\n",
       "    <tr>\n",
       "      <th>79543</th>\n",
       "      <td>224.006526</td>\n",
       "      <td>-0.624304</td>\n",
       "      <td>-9999.00000</td>\n",
       "      <td>-9999.00000</td>\n",
       "      <td>18.16560</td>\n",
       "      <td>18.01675</td>\n",
       "      <td>-9999.00000</td>\n",
       "      <td>0.000089</td>\n",
       "      <td>STAR</td>\n",
       "    </tr>\n",
       "    <tr>\n",
       "      <th>57763</th>\n",
       "      <td>208.358688</td>\n",
       "      <td>33.825699</td>\n",
       "      <td>10.99623</td>\n",
       "      <td>13.66217</td>\n",
       "      <td>12.35763</td>\n",
       "      <td>12.63744</td>\n",
       "      <td>11.30247</td>\n",
       "      <td>3.955592</td>\n",
       "      <td>QSO</td>\n",
       "    </tr>\n",
       "    <tr>\n",
       "      <th>75784</th>\n",
       "      <td>239.473361</td>\n",
       "      <td>27.594369</td>\n",
       "      <td>12.10168</td>\n",
       "      <td>10.49820</td>\n",
       "      <td>10.11604</td>\n",
       "      <td>10.00865</td>\n",
       "      <td>10.44131</td>\n",
       "      <td>0.000008</td>\n",
       "      <td>STAR</td>\n",
       "    </tr>\n",
       "  </tbody>\n",
       "</table>\n",
       "</div>"
      ],
      "text/plain": [
       "            alpha      delta           u           g         r         i  \\\n",
       "79543  224.006526  -0.624304 -9999.00000 -9999.00000  18.16560  18.01675   \n",
       "57763  208.358688  33.825699    10.99623    13.66217  12.35763  12.63744   \n",
       "75784  239.473361  27.594369    12.10168    10.49820  10.11604  10.00865   \n",
       "\n",
       "                z  redshift class  \n",
       "79543 -9999.00000  0.000089  STAR  \n",
       "57763    11.30247  3.955592   QSO  \n",
       "75784    10.44131  0.000008  STAR  "
      ]
     },
     "execution_count": 13,
     "metadata": {},
     "output_type": "execute_result"
    }
   ],
   "source": [
    "# lets find values of interest\n",
    "relevant_data[relevant_data.u < 20.352353].sort_values(by='u').head(3)"
   ]
  },
  {
   "cell_type": "code",
   "execution_count": 14,
   "metadata": {},
   "outputs": [
    {
     "data": {
      "text/html": [
       "<div>\n",
       "<style scoped>\n",
       "    .dataframe tbody tr th:only-of-type {\n",
       "        vertical-align: middle;\n",
       "    }\n",
       "\n",
       "    .dataframe tbody tr th {\n",
       "        vertical-align: top;\n",
       "    }\n",
       "\n",
       "    .dataframe thead th {\n",
       "        text-align: right;\n",
       "    }\n",
       "</style>\n",
       "<table border=\"1\" class=\"dataframe\">\n",
       "  <thead>\n",
       "    <tr style=\"text-align: right;\">\n",
       "      <th></th>\n",
       "      <th>alpha</th>\n",
       "      <th>delta</th>\n",
       "      <th>u</th>\n",
       "      <th>g</th>\n",
       "      <th>r</th>\n",
       "      <th>i</th>\n",
       "      <th>z</th>\n",
       "      <th>redshift</th>\n",
       "      <th>class</th>\n",
       "    </tr>\n",
       "  </thead>\n",
       "  <tbody>\n",
       "    <tr>\n",
       "      <th>79543</th>\n",
       "      <td>224.006526</td>\n",
       "      <td>-0.624304</td>\n",
       "      <td>-9999.00000</td>\n",
       "      <td>-9999.00000</td>\n",
       "      <td>18.16560</td>\n",
       "      <td>18.01675</td>\n",
       "      <td>-9999.00000</td>\n",
       "      <td>0.000089</td>\n",
       "      <td>STAR</td>\n",
       "    </tr>\n",
       "    <tr>\n",
       "      <th>75784</th>\n",
       "      <td>239.473361</td>\n",
       "      <td>27.594369</td>\n",
       "      <td>12.10168</td>\n",
       "      <td>10.49820</td>\n",
       "      <td>10.11604</td>\n",
       "      <td>10.00865</td>\n",
       "      <td>10.44131</td>\n",
       "      <td>0.000008</td>\n",
       "      <td>STAR</td>\n",
       "    </tr>\n",
       "    <tr>\n",
       "      <th>4472</th>\n",
       "      <td>239.423127</td>\n",
       "      <td>28.548438</td>\n",
       "      <td>12.26240</td>\n",
       "      <td>10.51139</td>\n",
       "      <td>10.06854</td>\n",
       "      <td>13.41786</td>\n",
       "      <td>10.22551</td>\n",
       "      <td>0.000025</td>\n",
       "      <td>STAR</td>\n",
       "    </tr>\n",
       "  </tbody>\n",
       "</table>\n",
       "</div>"
      ],
      "text/plain": [
       "            alpha      delta           u           g         r         i  \\\n",
       "79543  224.006526  -0.624304 -9999.00000 -9999.00000  18.16560  18.01675   \n",
       "75784  239.473361  27.594369    12.10168    10.49820  10.11604  10.00865   \n",
       "4472   239.423127  28.548438    12.26240    10.51139  10.06854  13.41786   \n",
       "\n",
       "                z  redshift class  \n",
       "79543 -9999.00000  0.000089  STAR  \n",
       "75784    10.44131  0.000008  STAR  \n",
       "4472     10.22551  0.000025  STAR  "
      ]
     },
     "execution_count": 14,
     "metadata": {},
     "output_type": "execute_result"
    }
   ],
   "source": [
    "# lets find values of interest\n",
    "relevant_data[relevant_data.g < 20.352353].sort_values(by='g').head(3)"
   ]
  },
  {
   "cell_type": "code",
   "execution_count": 15,
   "metadata": {},
   "outputs": [
    {
     "data": {
      "text/html": [
       "<div>\n",
       "<style scoped>\n",
       "    .dataframe tbody tr th:only-of-type {\n",
       "        vertical-align: middle;\n",
       "    }\n",
       "\n",
       "    .dataframe tbody tr th {\n",
       "        vertical-align: top;\n",
       "    }\n",
       "\n",
       "    .dataframe thead th {\n",
       "        text-align: right;\n",
       "    }\n",
       "</style>\n",
       "<table border=\"1\" class=\"dataframe\">\n",
       "  <thead>\n",
       "    <tr style=\"text-align: right;\">\n",
       "      <th></th>\n",
       "      <th>alpha</th>\n",
       "      <th>delta</th>\n",
       "      <th>u</th>\n",
       "      <th>g</th>\n",
       "      <th>r</th>\n",
       "      <th>i</th>\n",
       "      <th>z</th>\n",
       "      <th>redshift</th>\n",
       "      <th>class</th>\n",
       "    </tr>\n",
       "  </thead>\n",
       "  <tbody>\n",
       "    <tr>\n",
       "      <th>79543</th>\n",
       "      <td>224.006526</td>\n",
       "      <td>-0.624304</td>\n",
       "      <td>-9999.00000</td>\n",
       "      <td>-9999.00000</td>\n",
       "      <td>18.16560</td>\n",
       "      <td>18.016750</td>\n",
       "      <td>-9999.000000</td>\n",
       "      <td>0.000089</td>\n",
       "      <td>STAR</td>\n",
       "    </tr>\n",
       "    <tr>\n",
       "      <th>14498</th>\n",
       "      <td>84.230172</td>\n",
       "      <td>7.138590</td>\n",
       "      <td>14.15199</td>\n",
       "      <td>10.73097</td>\n",
       "      <td>9.82207</td>\n",
       "      <td>9.469903</td>\n",
       "      <td>9.612333</td>\n",
       "      <td>0.000051</td>\n",
       "      <td>STAR</td>\n",
       "    </tr>\n",
       "    <tr>\n",
       "      <th>4472</th>\n",
       "      <td>239.423127</td>\n",
       "      <td>28.548438</td>\n",
       "      <td>12.26240</td>\n",
       "      <td>10.51139</td>\n",
       "      <td>10.06854</td>\n",
       "      <td>13.417860</td>\n",
       "      <td>10.225510</td>\n",
       "      <td>0.000025</td>\n",
       "      <td>STAR</td>\n",
       "    </tr>\n",
       "  </tbody>\n",
       "</table>\n",
       "</div>"
      ],
      "text/plain": [
       "            alpha      delta           u           g         r          i  \\\n",
       "79543  224.006526  -0.624304 -9999.00000 -9999.00000  18.16560  18.016750   \n",
       "14498   84.230172   7.138590    14.15199    10.73097   9.82207   9.469903   \n",
       "4472   239.423127  28.548438    12.26240    10.51139  10.06854  13.417860   \n",
       "\n",
       "                 z  redshift class  \n",
       "79543 -9999.000000  0.000089  STAR  \n",
       "14498     9.612333  0.000051  STAR  \n",
       "4472     10.225510  0.000025  STAR  "
      ]
     },
     "execution_count": 15,
     "metadata": {},
     "output_type": "execute_result"
    }
   ],
   "source": [
    "# lets find values of interest\n",
    "relevant_data[relevant_data.z < 20.352353].sort_values(by='z').head(3)"
   ]
  },
  {
   "cell_type": "code",
   "execution_count": 16,
   "metadata": {},
   "outputs": [
    {
     "data": {
      "text/plain": [
       "Index([79543], dtype='int64')"
      ]
     },
     "execution_count": 16,
     "metadata": {},
     "output_type": "execute_result"
    }
   ],
   "source": [
    "# one row seems bad,lets remove it\n",
    "rows_to_drop = relevant_data[ (relevant_data.u <= -9999) | (relevant_data.g <= -9999) | (relevant_data.r <= -9999) ].index\n",
    "rows_to_drop"
   ]
  },
  {
   "cell_type": "code",
   "execution_count": 17,
   "metadata": {},
   "outputs": [],
   "source": [
    "relevant_data = relevant_data.drop(index=rows_to_drop)"
   ]
  },
  {
   "cell_type": "code",
   "execution_count": 18,
   "metadata": {},
   "outputs": [
    {
     "data": {
      "text/html": [
       "<div>\n",
       "<style scoped>\n",
       "    .dataframe tbody tr th:only-of-type {\n",
       "        vertical-align: middle;\n",
       "    }\n",
       "\n",
       "    .dataframe tbody tr th {\n",
       "        vertical-align: top;\n",
       "    }\n",
       "\n",
       "    .dataframe thead th {\n",
       "        text-align: right;\n",
       "    }\n",
       "</style>\n",
       "<table border=\"1\" class=\"dataframe\">\n",
       "  <thead>\n",
       "    <tr style=\"text-align: right;\">\n",
       "      <th></th>\n",
       "      <th>count</th>\n",
       "      <th>mean</th>\n",
       "      <th>std</th>\n",
       "      <th>min</th>\n",
       "      <th>25%</th>\n",
       "      <th>50%</th>\n",
       "      <th>75%</th>\n",
       "      <th>max</th>\n",
       "    </tr>\n",
       "  </thead>\n",
       "  <tbody>\n",
       "    <tr>\n",
       "      <th>alpha</th>\n",
       "      <td>99999.0</td>\n",
       "      <td>177.628653</td>\n",
       "      <td>96.502612</td>\n",
       "      <td>0.005528</td>\n",
       "      <td>127.517698</td>\n",
       "      <td>180.900527</td>\n",
       "      <td>233.895005</td>\n",
       "      <td>359.999810</td>\n",
       "    </tr>\n",
       "    <tr>\n",
       "      <th>delta</th>\n",
       "      <td>99999.0</td>\n",
       "      <td>24.135552</td>\n",
       "      <td>19.644608</td>\n",
       "      <td>-18.785328</td>\n",
       "      <td>5.147477</td>\n",
       "      <td>23.646462</td>\n",
       "      <td>39.901582</td>\n",
       "      <td>83.000519</td>\n",
       "    </tr>\n",
       "    <tr>\n",
       "      <th>u</th>\n",
       "      <td>99999.0</td>\n",
       "      <td>22.080679</td>\n",
       "      <td>2.251068</td>\n",
       "      <td>10.996230</td>\n",
       "      <td>20.352410</td>\n",
       "      <td>22.179140</td>\n",
       "      <td>23.687480</td>\n",
       "      <td>32.781390</td>\n",
       "    </tr>\n",
       "    <tr>\n",
       "      <th>g</th>\n",
       "      <td>99999.0</td>\n",
       "      <td>20.631583</td>\n",
       "      <td>2.037384</td>\n",
       "      <td>10.498200</td>\n",
       "      <td>18.965240</td>\n",
       "      <td>21.099930</td>\n",
       "      <td>22.123775</td>\n",
       "      <td>31.602240</td>\n",
       "    </tr>\n",
       "    <tr>\n",
       "      <th>r</th>\n",
       "      <td>99999.0</td>\n",
       "      <td>19.645777</td>\n",
       "      <td>1.854763</td>\n",
       "      <td>9.822070</td>\n",
       "      <td>18.135795</td>\n",
       "      <td>20.125310</td>\n",
       "      <td>21.044790</td>\n",
       "      <td>29.571860</td>\n",
       "    </tr>\n",
       "    <tr>\n",
       "      <th>i</th>\n",
       "      <td>99999.0</td>\n",
       "      <td>19.084865</td>\n",
       "      <td>1.757900</td>\n",
       "      <td>9.469903</td>\n",
       "      <td>17.732280</td>\n",
       "      <td>19.405150</td>\n",
       "      <td>20.396510</td>\n",
       "      <td>32.141470</td>\n",
       "    </tr>\n",
       "    <tr>\n",
       "      <th>z</th>\n",
       "      <td>99999.0</td>\n",
       "      <td>18.768988</td>\n",
       "      <td>1.765982</td>\n",
       "      <td>9.612333</td>\n",
       "      <td>17.460830</td>\n",
       "      <td>19.004600</td>\n",
       "      <td>19.921120</td>\n",
       "      <td>29.383740</td>\n",
       "    </tr>\n",
       "    <tr>\n",
       "      <th>redshift</th>\n",
       "      <td>99999.0</td>\n",
       "      <td>0.576667</td>\n",
       "      <td>0.730709</td>\n",
       "      <td>-0.009971</td>\n",
       "      <td>0.054522</td>\n",
       "      <td>0.424176</td>\n",
       "      <td>0.704172</td>\n",
       "      <td>7.011245</td>\n",
       "    </tr>\n",
       "  </tbody>\n",
       "</table>\n",
       "</div>"
      ],
      "text/plain": [
       "            count        mean        std        min         25%         50%  \\\n",
       "alpha     99999.0  177.628653  96.502612   0.005528  127.517698  180.900527   \n",
       "delta     99999.0   24.135552  19.644608 -18.785328    5.147477   23.646462   \n",
       "u         99999.0   22.080679   2.251068  10.996230   20.352410   22.179140   \n",
       "g         99999.0   20.631583   2.037384  10.498200   18.965240   21.099930   \n",
       "r         99999.0   19.645777   1.854763   9.822070   18.135795   20.125310   \n",
       "i         99999.0   19.084865   1.757900   9.469903   17.732280   19.405150   \n",
       "z         99999.0   18.768988   1.765982   9.612333   17.460830   19.004600   \n",
       "redshift  99999.0    0.576667   0.730709  -0.009971    0.054522    0.424176   \n",
       "\n",
       "                 75%         max  \n",
       "alpha     233.895005  359.999810  \n",
       "delta      39.901582   83.000519  \n",
       "u          23.687480   32.781390  \n",
       "g          22.123775   31.602240  \n",
       "r          21.044790   29.571860  \n",
       "i          20.396510   32.141470  \n",
       "z          19.921120   29.383740  \n",
       "redshift    0.704172    7.011245  "
      ]
     },
     "execution_count": 18,
     "metadata": {},
     "output_type": "execute_result"
    }
   ],
   "source": [
    "relevant_data.describe().T"
   ]
  },
  {
   "cell_type": "code",
   "execution_count": 19,
   "metadata": {},
   "outputs": [],
   "source": [
    "FEATURE_COLS = [ 'u', 'g', 'r', 'i', 'z', 'redshift']\n",
    "OUTPUT_COL = ['class']\n",
    "cleaned_features = relevant_data[FEATURE_COLS]\n",
    "cleaned_output = relevant_data[OUTPUT_COL]"
   ]
  },
  {
   "cell_type": "markdown",
   "metadata": {},
   "source": [
    "## Save the data"
   ]
  },
  {
   "cell_type": "code",
   "execution_count": 20,
   "metadata": {},
   "outputs": [],
   "source": [
    "cleaned_features.to_csv('./data/star_classification_cleaned_features.csv')\n",
    "cleaned_output.to_csv('./data/star_classification_cleaned_output.csv')"
   ]
  },
  {
   "cell_type": "markdown",
   "metadata": {},
   "source": [
    "## Normalize the data"
   ]
  },
  {
   "cell_type": "code",
   "execution_count": 21,
   "metadata": {},
   "outputs": [
    {
     "data": {
      "text/html": [
       "<div>\n",
       "<style scoped>\n",
       "    .dataframe tbody tr th:only-of-type {\n",
       "        vertical-align: middle;\n",
       "    }\n",
       "\n",
       "    .dataframe tbody tr th {\n",
       "        vertical-align: top;\n",
       "    }\n",
       "\n",
       "    .dataframe thead th {\n",
       "        text-align: right;\n",
       "    }\n",
       "</style>\n",
       "<table border=\"1\" class=\"dataframe\">\n",
       "  <thead>\n",
       "    <tr style=\"text-align: right;\">\n",
       "      <th></th>\n",
       "      <th>u</th>\n",
       "      <th>g</th>\n",
       "      <th>r</th>\n",
       "      <th>i</th>\n",
       "      <th>z</th>\n",
       "      <th>redshift</th>\n",
       "    </tr>\n",
       "  </thead>\n",
       "  <tbody>\n",
       "    <tr>\n",
       "      <th>0</th>\n",
       "      <td>0.798798</td>\n",
       "      <td>0.806782</td>\n",
       "      <td>0.403953</td>\n",
       "      <td>0.046001</td>\n",
       "      <td>0.013999</td>\n",
       "      <td>0.079549</td>\n",
       "    </tr>\n",
       "    <tr>\n",
       "      <th>1</th>\n",
       "      <td>1.198064</td>\n",
       "      <td>1.079967</td>\n",
       "      <td>1.584395</td>\n",
       "      <td>1.185087</td>\n",
       "      <td>1.611170</td>\n",
       "      <td>0.277088</td>\n",
       "    </tr>\n",
       "    <tr>\n",
       "      <th>2</th>\n",
       "      <td>1.413732</td>\n",
       "      <td>0.997513</td>\n",
       "      <td>0.519736</td>\n",
       "      <td>0.150012</td>\n",
       "      <td>0.101520</td>\n",
       "      <td>0.092415</td>\n",
       "    </tr>\n",
       "    <tr>\n",
       "      <th>3</th>\n",
       "      <td>0.024940</td>\n",
       "      <td>1.543642</td>\n",
       "      <td>1.059894</td>\n",
       "      <td>0.807601</td>\n",
       "      <td>0.272435</td>\n",
       "      <td>0.486761</td>\n",
       "    </tr>\n",
       "    <tr>\n",
       "      <th>4</th>\n",
       "      <td>-1.174337</td>\n",
       "      <td>-1.497665</td>\n",
       "      <td>-1.697426</td>\n",
       "      <td>-1.767888</td>\n",
       "      <td>-1.825836</td>\n",
       "      <td>-0.630273</td>\n",
       "    </tr>\n",
       "  </tbody>\n",
       "</table>\n",
       "</div>"
      ],
      "text/plain": [
       "          u         g         r         i         z  redshift\n",
       "0  0.798798  0.806782  0.403953  0.046001  0.013999  0.079549\n",
       "1  1.198064  1.079967  1.584395  1.185087  1.611170  0.277088\n",
       "2  1.413732  0.997513  0.519736  0.150012  0.101520  0.092415\n",
       "3  0.024940  1.543642  1.059894  0.807601  0.272435  0.486761\n",
       "4 -1.174337 -1.497665 -1.697426 -1.767888 -1.825836 -0.630273"
      ]
     },
     "execution_count": 21,
     "metadata": {},
     "output_type": "execute_result"
    }
   ],
   "source": [
    "from sklearn.preprocessing import StandardScaler\n",
    "normalized_features = pd.DataFrame(data=StandardScaler().fit_transform(cleaned_features), columns=FEATURE_COLS)\n",
    "normalized_features.head()"
   ]
  },
  {
   "cell_type": "code",
   "execution_count": 22,
   "metadata": {},
   "outputs": [
    {
     "data": {
      "text/plain": [
       "class\n",
       "1    59445\n",
       "3    21593\n",
       "2    18961\n",
       "Name: count, dtype: int64"
      ]
     },
     "execution_count": 22,
     "metadata": {},
     "output_type": "execute_result"
    }
   ],
   "source": [
    "normalized_output = pd.DataFrame(data=cleaned_output['class'].replace(to_replace=['GALAXY', 'QSO', 'STAR'], value=[1,2,3]), columns=['class'])\n",
    "\n",
    "normalized_output['class'].value_counts()"
   ]
  },
  {
   "cell_type": "code",
   "execution_count": 23,
   "metadata": {},
   "outputs": [],
   "source": [
    "normalized_features.to_csv('./data/star_classification_cleaned_norm_features.csv')\n",
    "normalized_output.to_csv('./data/star_classification_cleaned_norm_output.csv')\n",
    "\n"
   ]
  },
  {
   "cell_type": "markdown",
   "metadata": {},
   "source": [
    "### Show the correlation"
   ]
  },
  {
   "cell_type": "code",
   "execution_count": 26,
   "metadata": {},
   "outputs": [
    {
     "data": {
      "text/html": [
       "<style type=\"text/css\">\n",
       "#T_40c54_row0_col0, #T_40c54_row1_col1, #T_40c54_row2_col2, #T_40c54_row3_col3, #T_40c54_row4_col4, #T_40c54_row5_col5 {\n",
       "  background-color: #b40426;\n",
       "  color: #f1f1f1;\n",
       "}\n",
       "#T_40c54_row0_col1 {\n",
       "  background-color: #f08b6e;\n",
       "  color: #f1f1f1;\n",
       "}\n",
       "#T_40c54_row0_col2 {\n",
       "  background-color: #e2dad5;\n",
       "  color: #000000;\n",
       "}\n",
       "#T_40c54_row0_col3 {\n",
       "  background-color: #8caffe;\n",
       "  color: #000000;\n",
       "}\n",
       "#T_40c54_row0_col4 {\n",
       "  background-color: #5572df;\n",
       "  color: #f1f1f1;\n",
       "}\n",
       "#T_40c54_row0_col5, #T_40c54_row5_col0, #T_40c54_row5_col1, #T_40c54_row5_col2, #T_40c54_row5_col3, #T_40c54_row5_col4 {\n",
       "  background-color: #3b4cc0;\n",
       "  color: #f1f1f1;\n",
       "}\n",
       "#T_40c54_row1_col0 {\n",
       "  background-color: #e97a5f;\n",
       "  color: #f1f1f1;\n",
       "}\n",
       "#T_40c54_row1_col2 {\n",
       "  background-color: #dc5d4a;\n",
       "  color: #f1f1f1;\n",
       "}\n",
       "#T_40c54_row1_col3 {\n",
       "  background-color: #f7ad90;\n",
       "  color: #000000;\n",
       "}\n",
       "#T_40c54_row1_col4 {\n",
       "  background-color: #e9d5cb;\n",
       "  color: #000000;\n",
       "}\n",
       "#T_40c54_row1_col5 {\n",
       "  background-color: #7597f6;\n",
       "  color: #f1f1f1;\n",
       "}\n",
       "#T_40c54_row2_col0 {\n",
       "  background-color: #f7b599;\n",
       "  color: #000000;\n",
       "}\n",
       "#T_40c54_row2_col1 {\n",
       "  background-color: #d65244;\n",
       "  color: #f1f1f1;\n",
       "}\n",
       "#T_40c54_row2_col3 {\n",
       "  background-color: #cd423b;\n",
       "  color: #f1f1f1;\n",
       "}\n",
       "#T_40c54_row2_col4 {\n",
       "  background-color: #e67259;\n",
       "  color: #f1f1f1;\n",
       "}\n",
       "#T_40c54_row2_col5 {\n",
       "  background-color: #a5c3fe;\n",
       "  color: #000000;\n",
       "}\n",
       "#T_40c54_row3_col0 {\n",
       "  background-color: #e7d7ce;\n",
       "  color: #000000;\n",
       "}\n",
       "#T_40c54_row3_col1 {\n",
       "  background-color: #f18f71;\n",
       "  color: #f1f1f1;\n",
       "}\n",
       "#T_40c54_row3_col2 {\n",
       "  background-color: #cb3e38;\n",
       "  color: #f1f1f1;\n",
       "}\n",
       "#T_40c54_row3_col4, #T_40c54_row4_col3 {\n",
       "  background-color: #c83836;\n",
       "  color: #f1f1f1;\n",
       "}\n",
       "#T_40c54_row3_col5 {\n",
       "  background-color: #bed2f6;\n",
       "  color: #000000;\n",
       "}\n",
       "#T_40c54_row4_col0 {\n",
       "  background-color: #d1dae9;\n",
       "  color: #000000;\n",
       "}\n",
       "#T_40c54_row4_col1 {\n",
       "  background-color: #f7b79b;\n",
       "  color: #000000;\n",
       "}\n",
       "#T_40c54_row4_col2 {\n",
       "  background-color: #e26952;\n",
       "  color: #f1f1f1;\n",
       "}\n",
       "#T_40c54_row4_col5 {\n",
       "  background-color: #c0d4f5;\n",
       "  color: #000000;\n",
       "}\n",
       "</style>\n",
       "<table id=\"T_40c54\">\n",
       "  <thead>\n",
       "    <tr>\n",
       "      <th class=\"blank level0\" >&nbsp;</th>\n",
       "      <th id=\"T_40c54_level0_col0\" class=\"col_heading level0 col0\" >u</th>\n",
       "      <th id=\"T_40c54_level0_col1\" class=\"col_heading level0 col1\" >g</th>\n",
       "      <th id=\"T_40c54_level0_col2\" class=\"col_heading level0 col2\" >r</th>\n",
       "      <th id=\"T_40c54_level0_col3\" class=\"col_heading level0 col3\" >i</th>\n",
       "      <th id=\"T_40c54_level0_col4\" class=\"col_heading level0 col4\" >z</th>\n",
       "      <th id=\"T_40c54_level0_col5\" class=\"col_heading level0 col5\" >redshift</th>\n",
       "    </tr>\n",
       "  </thead>\n",
       "  <tbody>\n",
       "    <tr>\n",
       "      <th id=\"T_40c54_level0_row0\" class=\"row_heading level0 row0\" >u</th>\n",
       "      <td id=\"T_40c54_row0_col0\" class=\"data row0 col0\" >1.000000</td>\n",
       "      <td id=\"T_40c54_row0_col1\" class=\"data row0 col1\" >0.853350</td>\n",
       "      <td id=\"T_40c54_row0_col2\" class=\"data row0 col2\" >0.728681</td>\n",
       "      <td id=\"T_40c54_row0_col3\" class=\"data row0 col3\" >0.618346</td>\n",
       "      <td id=\"T_40c54_row0_col4\" class=\"data row0 col4\" >0.545760</td>\n",
       "      <td id=\"T_40c54_row0_col5\" class=\"data row0 col5\" >0.166816</td>\n",
       "    </tr>\n",
       "    <tr>\n",
       "      <th id=\"T_40c54_level0_row1\" class=\"row_heading level0 row1\" >g</th>\n",
       "      <td id=\"T_40c54_row1_col0\" class=\"data row1 col0\" >0.853350</td>\n",
       "      <td id=\"T_40c54_row1_col1\" class=\"data row1 col1\" >1.000000</td>\n",
       "      <td id=\"T_40c54_row1_col2\" class=\"data row1 col2\" >0.932996</td>\n",
       "      <td id=\"T_40c54_row1_col3\" class=\"data row1 col3\" >0.847046</td>\n",
       "      <td id=\"T_40c54_row1_col4\" class=\"data row1 col4\" >0.775302</td>\n",
       "      <td id=\"T_40c54_row1_col5\" class=\"data row1 col5\" >0.318910</td>\n",
       "    </tr>\n",
       "    <tr>\n",
       "      <th id=\"T_40c54_level0_row2\" class=\"row_heading level0 row2\" >r</th>\n",
       "      <td id=\"T_40c54_row2_col0\" class=\"data row2 col0\" >0.728681</td>\n",
       "      <td id=\"T_40c54_row2_col1\" class=\"data row2 col1\" >0.932996</td>\n",
       "      <td id=\"T_40c54_row2_col2\" class=\"data row2 col2\" >1.000000</td>\n",
       "      <td id=\"T_40c54_row2_col3\" class=\"data row2 col3\" >0.962868</td>\n",
       "      <td id=\"T_40c54_row2_col4\" class=\"data row2 col4\" >0.919114</td>\n",
       "      <td id=\"T_40c54_row2_col5\" class=\"data row2 col5\" >0.433237</td>\n",
       "    </tr>\n",
       "    <tr>\n",
       "      <th id=\"T_40c54_level0_row3\" class=\"row_heading level0 row3\" >i</th>\n",
       "      <td id=\"T_40c54_row3_col0\" class=\"data row3 col0\" >0.618346</td>\n",
       "      <td id=\"T_40c54_row3_col1\" class=\"data row3 col1\" >0.847046</td>\n",
       "      <td id=\"T_40c54_row3_col2\" class=\"data row3 col2\" >0.962868</td>\n",
       "      <td id=\"T_40c54_row3_col3\" class=\"data row3 col3\" >1.000000</td>\n",
       "      <td id=\"T_40c54_row3_col4\" class=\"data row3 col4\" >0.971546</td>\n",
       "      <td id=\"T_40c54_row3_col5\" class=\"data row3 col5\" >0.492381</td>\n",
       "    </tr>\n",
       "    <tr>\n",
       "      <th id=\"T_40c54_level0_row4\" class=\"row_heading level0 row4\" >z</th>\n",
       "      <td id=\"T_40c54_row4_col0\" class=\"data row4 col0\" >0.545760</td>\n",
       "      <td id=\"T_40c54_row4_col1\" class=\"data row4 col1\" >0.775302</td>\n",
       "      <td id=\"T_40c54_row4_col2\" class=\"data row4 col2\" >0.919114</td>\n",
       "      <td id=\"T_40c54_row4_col3\" class=\"data row4 col3\" >0.971546</td>\n",
       "      <td id=\"T_40c54_row4_col4\" class=\"data row4 col4\" >1.000000</td>\n",
       "      <td id=\"T_40c54_row4_col5\" class=\"data row4 col5\" >0.501060</td>\n",
       "    </tr>\n",
       "    <tr>\n",
       "      <th id=\"T_40c54_level0_row5\" class=\"row_heading level0 row5\" >redshift</th>\n",
       "      <td id=\"T_40c54_row5_col0\" class=\"data row5 col0\" >0.166816</td>\n",
       "      <td id=\"T_40c54_row5_col1\" class=\"data row5 col1\" >0.318910</td>\n",
       "      <td id=\"T_40c54_row5_col2\" class=\"data row5 col2\" >0.433237</td>\n",
       "      <td id=\"T_40c54_row5_col3\" class=\"data row5 col3\" >0.492381</td>\n",
       "      <td id=\"T_40c54_row5_col4\" class=\"data row5 col4\" >0.501060</td>\n",
       "      <td id=\"T_40c54_row5_col5\" class=\"data row5 col5\" >1.000000</td>\n",
       "    </tr>\n",
       "  </tbody>\n",
       "</table>\n"
      ],
      "text/plain": [
       "<pandas.io.formats.style.Styler at 0x140982ad0>"
      ]
     },
     "execution_count": 26,
     "metadata": {},
     "output_type": "execute_result"
    }
   ],
   "source": [
    "corr = normalized_features.corr()\n",
    "corr.style.background_gradient(cmap='coolwarm')"
   ]
  },
  {
   "cell_type": "code",
   "execution_count": 25,
   "metadata": {},
   "outputs": [
    {
     "data": {
      "text/plain": [
       "<matplotlib.image.AxesImage at 0x137f1b2d0>"
      ]
     },
     "execution_count": 25,
     "metadata": {},
     "output_type": "execute_result"
    },
    {
     "data": {
      "image/png": "[encoded data removed]",
      "text/plain": [
       "<Figure size 480x480 with 1 Axes>"
      ]
     },
     "metadata": {},
     "output_type": "display_data"
    }
   ],
   "source": [
    "plt.matshow(normalized_features.corr(), )"
   ]
  },
  {
   "cell_type": "code",
   "execution_count": null,
   "metadata": {},
   "outputs": [],
   "source": []
  }
 ],
 "metadata": {
  "kernelspec": {
   "display_name": "ml",
   "language": "python",
   "name": "python3"
  },
  "language_info": {
   "codemirror_mode": {
    "name": "ipython",
    "version": 3
   },
   "file_extension": ".py",
   "mimetype": "text/x-python",
   "name": "python",
   "nbconvert_exporter": "python",
   "pygments_lexer": "ipython3",
   "version": "3.11.9"
  }
 },
 "nbformat": 4,
 "nbformat_minor": 2
}
